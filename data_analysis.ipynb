{
 "cells": [
  {
   "cell_type": "code",
   "execution_count": null,
   "id": "3123250b-9fc6-45bc-ba36-777f15f45ed2",
   "metadata": {},
   "outputs": [],
   "source": [
    "import pickle\n",
    "import numpy as np"
   ]
  },
  {
   "cell_type": "code",
   "execution_count": null,
   "id": "a3138621-faaf-4564-8173-e273782fb649",
   "metadata": {},
   "outputs": [],
   "source": [
    "data_file = \"results_5_10_25_individuals.pickle\""
   ]
  },
  {
   "cell_type": "code",
   "execution_count": null,
   "id": "8ea7e512-7b7d-4adb-9124-6641fba268d3",
   "metadata": {},
   "outputs": [],
   "source": [
    "def convert_to_list_int(value):\n",
    "    return sorted([int(v) for v in value.split(\" \")[:-1]])"
   ]
  },
  {
   "cell_type": "code",
   "execution_count": null,
   "id": "698afaf1-51f2-4881-a185-89e1b6277a8c",
   "metadata": {},
   "outputs": [],
   "source": [
    "convert_dict = {'Best_idx':int,'Best_fitness':float,'Worst_idx':int,'Worst_fitness':float,'Avg_fitness':float,'Best_genome':str}\n",
    "with open(data_file, 'rb') as handle:\n",
    "    data = pickle.load(handle)\n",
    "    for run in data:\n",
    "        for idx, trial in enumerate(run[1]):\n",
    "            run[1][idx] = trial.astype(convert_dict)\n",
    "            run[1][idx][\"Best_genome\"] = run[1][idx][\"Best_genome\"].apply(convert_to_list_int)\n",
    "            "
   ]
  },
  {
   "cell_type": "code",
   "execution_count": null,
   "id": "6ee1d490-c80a-4349-8aa9-c7f26786596c",
   "metadata": {},
   "outputs": [],
   "source": [
    "def get_best_try_of_run(run):\n",
    "    best_value = None\n",
    "    best_try = None\n",
    "    for trial in run[1]:\n",
    "        new_value = trial.iloc[-1,:][\"Best_fitness\"]\n",
    "        if best_try is None or new_value < best_value:\n",
    "            best_try = trial\n",
    "            best_value = new_value\n",
    "    return run[0], best_try"
   ]
  },
  {
   "cell_type": "code",
   "execution_count": null,
   "id": "035ec513-fad6-4e69-b257-f83e35709337",
   "metadata": {},
   "outputs": [],
   "source": [
    "import matplotlib.pyplot as plt\n",
    "import matplotlib.patches as mpatches"
   ]
  },
  {
   "cell_type": "code",
   "execution_count": null,
   "id": "1602b194-e103-463a-aebf-ebf67af378f9",
   "metadata": {},
   "outputs": [],
   "source": [
    "fig, ax = plt.subplots(figsize=[8, 3])\n",
    "for run in data:\n",
    "    run_id = run[0]\n",
    "    if \"0.0 0.0\" in run_id:\n",
    "        for trial in run[1]:\n",
    "            ax.plot(trial[\"Best_fitness\"], label=run_id)\n",
    "#plt.legend()\n",
    "#plt.show()\n",
    "plt.title(\"All the runs with prob_crossover=0.0 and prob_mutation=0.0\")\n",
    "plt.ylabel(\"Fitness\")\n",
    "plt.xlabel(\"Iterations\")\n",
    "plt.tight_layout()\n",
    "plt.savefig(\"docs/assets/no_cross_no_mut.pdf\", format=\"pdf\")"
   ]
  },
  {
   "cell_type": "code",
   "execution_count": null,
   "id": "2473a783-44b8-4609-afc0-74459de882be",
   "metadata": {},
   "outputs": [],
   "source": [
    "fig, ax = plt.subplots(figsize=[8, 3])\n",
    "for run in data:\n",
    "    run_id = run[0]\n",
    "    if \"1.0 1.0\" in run_id:\n",
    "        for trial in run[1]:\n",
    "            if \"2 1.0 1.0\" in run_id:\n",
    "                ax.plot(trial[\"Best_fitness\"], \"r-\", label=run_id)\n",
    "                continue\n",
    "            if \"3 1.0 1.0\" in run_id:\n",
    "                ax.plot(trial[\"Best_fitness\"], \"b-\", label=run_id)\n",
    "                continue\n",
    "            if \"4 1.0 1.0\" in run_id:\n",
    "                ax.plot(trial[\"Best_fitness\"], \"g-\", label=run_id)\n",
    "                continue\n",
    "#plt.legend()\n",
    "#plt.show()\n",
    "plt.title(\"All the runs with prob_crossover=1.0 and prob_mutation=1.0\")\n",
    "plt.ylabel(\"Fitness\")\n",
    "plt.xlabel(\"Iterations\")\n",
    "r_patch = mpatches.Patch(color='red', label='2 hubs')\n",
    "b_patch = mpatches.Patch(color='blue', label='3 hubs')\n",
    "g_patch = mpatches.Patch(color='green', label='4 hubs')\n",
    "plt.legend(handles=[r_patch, b_patch, g_patch])\n",
    "plt.tight_layout()\n",
    "plt.savefig(\"docs/assets/max_cross_mut.pdf\", format=\"pdf\")"
   ]
  },
  {
   "cell_type": "code",
   "execution_count": null,
   "id": "38eef877-0c11-453c-ad2e-a307bbf2e741",
   "metadata": {},
   "outputs": [],
   "source": [
    "fig, ax = plt.subplots(1, 6, figsize=[30, 6], sharey=True)\n",
    "for run in data:\n",
    "    run_id = run[0]\n",
    "    for trial in run[1]:\n",
    "        for v in range(0,12,2):\n",
    "            if f\"4 {v/10} {v/10}\" in run_id:\n",
    "                ax[int(v/2)].set_title(f\"Probability crossover={v/10} mutation={v/10}\")\n",
    "                ax[int(v/2)].plot(trial[\"Best_fitness\"], c=[v/10,0,0], label=run_id)\n",
    "                continue\n",
    "plt.xlabel(\"Iterations\")\n",
    "plt.tight_layout()\n",
    "plt.savefig(\"docs/assets/sweep_values_get_best_fitness.pdf\", format=\"pdf\")"
   ]
  },
  {
   "cell_type": "code",
   "execution_count": null,
   "id": "321916a5-e2d4-4a40-9fd2-09b0d3930ad3",
   "metadata": {},
   "outputs": [],
   "source": [
    "data_file = \"results_25_individuals.pickle\""
   ]
  },
  {
   "cell_type": "code",
   "execution_count": null,
   "id": "ce6ceb03-f23c-454f-8b27-2dcc014e5a77",
   "metadata": {},
   "outputs": [],
   "source": [
    "convert_dict = {'Best_idx':int,'Best_fitness':float,'Worst_idx':int,'Worst_fitness':float,'Avg_fitness':float,'Best_genome':str}\n",
    "with open(data_file, 'rb') as handle:\n",
    "    data = pickle.load(handle)\n",
    "    for run in data:\n",
    "        for idx, trial in enumerate(run[1]):\n",
    "            run[1][idx] = trial.astype(convert_dict)\n",
    "            run[1][idx][\"Best_genome\"] = run[1][idx][\"Best_genome\"].apply(convert_to_list_int)"
   ]
  },
  {
   "cell_type": "code",
   "execution_count": null,
   "id": "584cdc84-2c66-47da-bfbb-7fbd629bac38",
   "metadata": {},
   "outputs": [],
   "source": [
    "fig, ax = plt.subplots(figsize=[10, 7])\n",
    "for run in data:\n",
    "    run_id = run[0]\n",
    "    for trial in run[1]:\n",
    "        if \"25 4 0.2\" in run_id:\n",
    "            ax.plot(trial[\"Avg_fitness\"], label=run_id)\n",
    "#plt.legend()\n",
    "plt.tight_layout()\n",
    "plt.savefig(\"docs/assets/all_runs_02.pdf\", format=\"pdf\")"
   ]
  },
  {
   "cell_type": "code",
   "execution_count": null,
   "id": "591114fc-bef4-408f-8fe7-160ee3eabd47",
   "metadata": {},
   "outputs": [],
   "source": [
    "fig, ax = plt.subplots(1, 6, figsize=[30, 6], sharey=True)\n",
    "for run in data:\n",
    "    run_id, trial = get_best_try_of_run(run)\n",
    "    for j in range(0,12,2):\n",
    "        for v in range(0,12,2):\n",
    "            if f\"4 {j/10} {v/10}\" in run_id:\n",
    "                ax[int(v/2)].set_title(f\"Probability crossover=[0,1] mutation={v/10}\")\n",
    "                ax[int(v/2)].plot(trial[\"Avg_fitness\"], c=[j/10,0,0], label=run_id)\n",
    "plt.xlabel(\"Iterations\")\n",
    "leg = []\n",
    "for c in range(0,12,2):\n",
    "    leg.append(mpatches.Patch(color=[0,0,c/10], label=f'{c/10} crossover'))\n",
    "    ax[int(c/2)].grid()\n",
    "plt.legend(handles=leg)\n",
    "plt.tight_layout()\n",
    "plt.savefig(\"docs/assets/sweep_values_get_avg_fitness.pdf\", format=\"pdf\")"
   ]
  },
  {
   "cell_type": "markdown",
   "id": "3a3f49da-a738-4cdc-845d-7f841f4cdd76",
   "metadata": {},
   "source": [
    "# When is the optimal solution achieved"
   ]
  },
  {
   "cell_type": "code",
   "execution_count": null,
   "id": "f774950d-9d4f-4f33-8a0f-355142d09111",
   "metadata": {},
   "outputs": [],
   "source": [
    "import pandas as pd"
   ]
  },
  {
   "cell_type": "code",
   "execution_count": null,
   "id": "09066230-2be6-4e75-9a33-4281414d38f6",
   "metadata": {},
   "outputs": [],
   "source": [
    "optimal_known_solutions = [[3, 19], [7, 19, 20], [3, 6, 7, 19]]"
   ]
  },
  {
   "cell_type": "code",
   "execution_count": null,
   "id": "8eed7a21-1c03-453d-aa33-ff18d410b2e0",
   "metadata": {},
   "outputs": [],
   "source": [
    "def is_optimal_solution(trial):\n",
    "    genomes_trial = np.array(trial[\"Best_genome\"].to_list())\n",
    "    for know_solution in optimal_known_solutions:\n",
    "        if genomes_trial.shape[1] != np.array(know_solution).shape[0]:\n",
    "            continue\n",
    "        iteration_solution = np.where(np.all(genomes_trial == np.array(know_solution), axis=1))[0]\n",
    "        if len(iteration_solution):\n",
    "            return iteration_solution[0]\n",
    "    return None\n",
    "\n",
    "fig, ax = plt.subplots(2, 1, figsize=[15, 8], sharex=True)\n",
    "results = []\n",
    "for run in data:\n",
    "    for trial in run[1]:\n",
    "        idx = is_optimal_solution(trial)\n",
    "        if idx is not None:\n",
    "            results.append([run[0], idx])\n",
    "        else:\n",
    "            results.append([run[0], None])\n",
    "results = pd.DataFrame(results, columns=[\"run\", \"n_iter\"])\n",
    "mean_run = results.groupby(\"run\").mean()\n",
    "count_run = results.groupby(\"run\").count()\n",
    "\n",
    "ax[0].bar(list(range(len(mean_run.index))), mean_run[\"n_iter\"].to_numpy(),tick_label=mean_run.index, color=\"red\")\n",
    "ax[0].set_xticklabels(mean_run.index, rotation=85)\n",
    "ax[0].set_ylabel(\"Avg iterations to optimal solution (s)\")\n",
    "ax[0].grid()\n",
    "\n",
    "ax[1].bar(list(range(len(count_run.index))), count_run[\"n_iter\"].to_numpy()*100/30,tick_label=count_run.index, color=\"red\")\n",
    "ax[1].set_xticklabels(count_run.index, rotation=85)\n",
    "ax[1].set_ylabel(\"% runs optimal solution (%)\")\n",
    "ax[1].grid()\n",
    "plt.xlabel(\"Run parameters\")\n",
    "plt.tight_layout()\n",
    "plt.savefig(\"docs/assets/iters_to_optimal.pdf\", format=\"pdf\")"
   ]
  },
  {
   "cell_type": "code",
   "execution_count": null,
   "id": "b14cae81-f331-4729-9bc4-cd90b006a4f0",
   "metadata": {},
   "outputs": [],
   "source": [
    "convert_dict = {'Best_idx':int,'Best_fitness':float,'Worst_idx':int,'Worst_fitness':float,'Avg_fitness':float,'Best_genome':str}\n",
    "with open(\"results_25_0_to_02_individuals.pickle\", 'rb') as handle:\n",
    "    data = pickle.load(handle)\n",
    "    for run in data:\n",
    "        for idx, trial in enumerate(run[1]):\n",
    "            run[1][idx] = trial.astype(convert_dict)\n",
    "            run[1][idx][\"Best_genome\"] = run[1][idx][\"Best_genome\"].apply(convert_to_list_int)"
   ]
  },
  {
   "cell_type": "code",
   "execution_count": null,
   "id": "45313b74-38a9-413c-8382-ff68183d7478",
   "metadata": {},
   "outputs": [],
   "source": [
    "def is_optimal_solution(trial):\n",
    "    genomes_trial = np.array(trial[\"Best_genome\"].to_list())\n",
    "    for know_solution in optimal_known_solutions:\n",
    "        if genomes_trial.shape[1] != np.array(know_solution).shape[0]:\n",
    "            continue\n",
    "        iteration_solution = np.where(np.all(genomes_trial == np.array(know_solution), axis=1))[0]\n",
    "        if len(iteration_solution):\n",
    "            return iteration_solution[0]\n",
    "    return None\n",
    "\n",
    "fig, ax = plt.subplots(2, 1, figsize=[15, 8], sharex=True)\n",
    "results = []\n",
    "for run in data:\n",
    "    for trial in run[1]:\n",
    "        idx = is_optimal_solution(trial)\n",
    "        if idx is not None:\n",
    "            results.append([run[0], idx])\n",
    "        else:\n",
    "            results.append([run[0], None])\n",
    "results = pd.DataFrame(results, columns=[\"run\", \"n_iter\"])\n",
    "mean_run = results.groupby(\"run\").mean()\n",
    "count_run = results.groupby(\"run\").count()\n",
    "\n",
    "ax[0].bar(list(range(len(mean_run.index))), mean_run[\"n_iter\"].to_numpy(),tick_label=mean_run.index, color=\"red\")\n",
    "ax[0].set_xticklabels(mean_run.index, rotation=85)\n",
    "ax[0].set_ylabel(\"Avg iterations to optimal solution (s)\")\n",
    "ax[0].grid()\n",
    "\n",
    "ax[1].bar(list(range(len(count_run.index))), count_run[\"n_iter\"].to_numpy()*100/30,tick_label=count_run.index, color=\"red\")\n",
    "ax[1].set_xticklabels(count_run.index, rotation=85)\n",
    "ax[1].set_ylabel(\"% runs optimal solution (%)\")\n",
    "ax[1].grid()\n",
    "plt.xlabel(\"Run parameters\")\n",
    "plt.tight_layout()\n",
    "plt.savefig(\"docs/assets/iters_to_optimal_02.pdf\", format=\"pdf\")"
   ]
  },
  {
   "cell_type": "code",
   "execution_count": null,
   "id": "2aabfe57-9d32-4d7a-b028-359d559d5f59",
   "metadata": {},
   "outputs": [],
   "source": []
  }
 ],
 "metadata": {
  "kernelspec": {
   "display_name": "Python 3 (ipykernel)",
   "language": "python",
   "name": "python3"
  },
  "language_info": {
   "codemirror_mode": {
    "name": "ipython",
    "version": 3
   },
   "file_extension": ".py",
   "mimetype": "text/x-python",
   "name": "python",
   "nbconvert_exporter": "python",
   "pygments_lexer": "ipython3",
   "version": "3.10.6"
  }
 },
 "nbformat": 4,
 "nbformat_minor": 5
}
