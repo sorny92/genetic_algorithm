{
 "cells": [
  {
   "cell_type": "code",
   "execution_count": 1,
   "id": "5e986437-3bfc-4104-b578-f12b00ca9bfb",
   "metadata": {},
   "outputs": [],
   "source": [
    "import subprocess\n",
    "import re\n",
    "import pandas as pd"
   ]
  },
  {
   "cell_type": "code",
   "execution_count": 8,
   "id": "3bd83ac5-53c5-42ec-b6f6-661bf8b51387",
   "metadata": {},
   "outputs": [],
   "source": [
    "def run_GA(n_iterations: int, \n",
    "           n_individuals: int, \n",
    "           genome_length: int, \n",
    "           probability_crossover: float, \n",
    "           probability_mutation: float):\n",
    "    executable = \"./cmake-build-release/main\"\n",
    "    result = subprocess.run([executable, str(n_iterations), str(n_individuals), str(genome_length), str(probability_crossover), str(probability_mutation)], stdout=subprocess.PIPE)\n",
    "    \n",
    "    #print(f\"Error code: {result.returncode}\\n\\n\")\n",
    "    \n",
    "    results = pd.DataFrame(columns=['Best_idx','Best_fitness','Worst_idx','Worst_fitness','Avg_fitness','Best_genome'])\n",
    "    regex_float = \"[+-]?([0-9]*[.])?[0-9]+\"\n",
    "    regex_int = \"[0-9]*\"\n",
    "    for line in result.stdout.decode(\"utf-8\").split(\"\\n\"):\n",
    "        match = re.search(f'Iter ({regex_int}): Best: ({regex_int})->({regex_float})  \\|\\| Worst: ({regex_int})->({regex_float})  \\|\\| Avg_fitness: ({regex_float})  \\|\\| Best_genome: ([\\d ]*)', line)\n",
    "        if match:\n",
    "            results.loc[len(results.index)] = [match.group(2), match.group(3), match.group(5), match.group(6), match.group(8), match.group(10)]\n",
    "    return results"
   ]
  },
  {
   "cell_type": "code",
   "execution_count": 27,
   "id": "c91de0b7-a308-4f8a-83d7-1e982285682a",
   "metadata": {},
   "outputs": [],
   "source": [
    "n_iterations = 500\n",
    "repetitions = 30\n",
    "runs = {}\n",
    "for individuals in [5, 10, 25]:\n",
    "    for genome_length in [2,3,4]:\n",
    "        for prob_crossover in range(0,12,2):\n",
    "            for prob_mutation in range(0,12,2):\n",
    "                id_run = f\"{individuals} {genome_length} {prob_crossover/10} {prob_mutation/10}\"\n",
    "                runs[id_run] = {\"i\":individuals, \"gl\":genome_length, \"pc\":prob_crossover/10, \"pm\":prob_mutation/10}\n",
    "#print(runs)\n",
    "#result = run_GA(100, 2, 2, 1, 1)"
   ]
  },
  {
   "cell_type": "code",
   "execution_count": 28,
   "id": "e3a2139d-14f4-4da7-914c-2b6c7a39937b",
   "metadata": {
    "tags": []
   },
   "outputs": [
    {
     "name": "stderr",
     "output_type": "stream",
     "text": [
      "100%|█████████████████████████████████████████| 324/324 [12:59<00:00,  2.40s/it]\n"
     ]
    }
   ],
   "source": [
    "from multiprocessing import Pool\n",
    "import tqdm\n",
    "\n",
    "\n",
    "def f(x):\n",
    "    row = runs[x]\n",
    "    result = []\n",
    "    for i in range(repetitions):\n",
    "        result.append(run_GA(n_iterations, row[\"i\"], row[\"gl\"], row[\"pc\"], row[\"pm\"]))\n",
    "    return x, result\n",
    "with Pool(12) as p:\n",
    "    results_run = list(tqdm.tqdm(p.imap(f, runs), total=len(runs)))"
   ]
  },
  {
   "cell_type": "code",
   "execution_count": 29,
   "id": "0b156e7f-ba31-40e7-b9fb-51cd6323064f",
   "metadata": {},
   "outputs": [
    {
     "name": "stdout",
     "output_type": "stream",
     "text": [
      "324\n"
     ]
    }
   ],
   "source": [
    "print(len(results_run))"
   ]
  },
  {
   "cell_type": "code",
   "execution_count": 30,
   "id": "30d04a18-3140-4f9a-8a09-11dfd3e6980f",
   "metadata": {},
   "outputs": [],
   "source": [
    "import pickle\n",
    "with open('results_5_10_25_individuals.pickle', 'wb') as handle:\n",
    "    pickle.dump(results_run, handle, protocol=pickle.HIGHEST_PROTOCOL)\n",
    "\n",
    "# Load data (deserialize)\n",
    "#with open('filename.pickle', 'rb') as handle:\n",
    "#    unserialized_data = pickle.load(handle)"
   ]
  },
  {
   "cell_type": "code",
   "execution_count": 25,
   "id": "44d07c88-2551-4e00-b63b-fdd2e802e35c",
   "metadata": {},
   "outputs": [],
   "source": [
    "def get_best_result_run(run):\n",
    "    best_idx = 1000\n",
    "    ending = 100000000\n",
    "    for idx, it in enumerate(run[1]):\n",
    "        if float(it.iloc[-1,:][\"Best_fitness\"]) < ending:\n",
    "            ending = float(it.iloc[-1,:][\"Best_fitness\"])\n",
    "            genome = it.iloc[-1,:][\"Best_genome\"]\n",
    "            best_idx = idx\n",
    "    return ending, genome\n",
    "        \n",
    "    "
   ]
  },
  {
   "cell_type": "code",
   "execution_count": null,
   "id": "fb023949-d1d6-4a35-ac8b-2a53ec4d7692",
   "metadata": {},
   "outputs": [],
   "source": [
    "for run in results_run:\n",
    "    print(run[0], get_best_result_run(run))d"
   ]
  }
 ],
 "metadata": {
  "kernelspec": {
   "display_name": "Python 3 (ipykernel)",
   "language": "python",
   "name": "python3"
  },
  "language_info": {
   "codemirror_mode": {
    "name": "ipython",
    "version": 3
   },
   "file_extension": ".py",
   "mimetype": "text/x-python",
   "name": "python",
   "nbconvert_exporter": "python",
   "pygments_lexer": "ipython3",
   "version": "3.10.4"
  }
 },
 "nbformat": 4,
 "nbformat_minor": 5
}
